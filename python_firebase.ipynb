{
 "metadata": {
  "language_info": {
   "codemirror_mode": {
    "name": "ipython",
    "version": 3
   },
   "file_extension": ".py",
   "mimetype": "text/x-python",
   "name": "python",
   "nbconvert_exporter": "python",
   "pygments_lexer": "ipython3",
   "version": "3.9.2-final"
  },
  "orig_nbformat": 2,
  "kernelspec": {
   "name": "python3",
   "display_name": "Python 3.9.2 64-bit",
   "metadata": {
    "interpreter": {
     "hash": "ac2eaa0ea0ebeafcc7822e65e46aa9d4f966f30b695406963e145ea4a91cd4fc"
    }
   }
  }
 },
 "nbformat": 4,
 "nbformat_minor": 2,
 "cells": [
  {
   "cell_type": "code",
   "execution_count": 1,
   "metadata": {},
   "outputs": [],
   "source": [
    "import firebase_admin\n",
    "from firebase_admin import credentials, firestore\n",
    "\n",
    "cred = credentials.Certificate(\"testfirebase-1b871-firebase-adminsdk-uz72c-2a2fe4dceb.json\")\n",
    "app = firebase_admin.initialize_app(cred)"
   ]
  },
  {
   "cell_type": "code",
   "execution_count": 2,
   "metadata": {},
   "outputs": [],
   "source": [
    "dfFireStore = firestore.client()"
   ]
  },
  {
   "cell_type": "code",
   "execution_count": 3,
   "metadata": {},
   "outputs": [
    {
     "output_type": "execute_result",
     "data": {
      "text/plain": [
       "    STT   T1   L1   H1   S1   V1   X1   D1   N1   T2  ...   X6   D6   N6  GT  \\\n",
       "0     1  7.2  7.3  6.3  7.3  7.0  7.9  7.3  5.5  8.4  ...  6.6  7.6  5.9   F   \n",
       "1     2  5.4  3.9  3.9  4.0  5.4  5.4  5.3  2.8  6.3  ...  6.6  6.1  4.4   M   \n",
       "2     3  5.6  6.8  7.2  7.5  4.3  7.4  5.8  3.2  5.0  ...  7.9  8.1  4.6   M   \n",
       "3     4  6.6  6.4  5.3  6.9  5.4  7.3  6.4  5.8  5.1  ...  7.1  7.3  7.4   M   \n",
       "4     5  6.0  5.0  6.0  7.3  6.5  7.7  7.9  6.1  5.4  ...  6.1  7.5  7.2   M   \n",
       "..  ...  ...  ...  ...  ...  ...  ...  ...  ...  ...  ...  ...  ...  ...  ..   \n",
       "95   96  8.6  6.9  7.4  8.8  7.6  5.8  7.3  5.7  8.9  ...  6.3  6.1  6.2   F   \n",
       "96   97  3.7  5.4  6.0  5.1  5.5  3.9  6.1  4.4  4.1  ...  7.9  7.5  4.4   F   \n",
       "97   98  8.8  5.5  7.4  7.7  6.2  7.3  8.1  4.5  9.5  ...  9.6  8.4  5.8   M   \n",
       "98   99  2.7  1.8  3.4  5.3  4.5  7.9  4.9  3.8  2.8  ...  6.6  5.2  5.9   M   \n",
       "99  100  4.1  5.2  4.9  5.3  5.5  5.4  7.2  5.4  4.4  ...  5.6  6.6  5.8   M   \n",
       "\n",
       "    DT   KV   DH1   DH2   DH3  KT  \n",
       "0  NaN  2NT  3.25  3.25  4.50  A1  \n",
       "1  NaN    1  6.00  4.00  3.50   C  \n",
       "2  NaN    1  5.00  6.75  4.00   C  \n",
       "3  NaN    1  4.25  4.25  5.25  D1  \n",
       "4  NaN  2NT  4.25  4.50  5.00   A  \n",
       "..  ..  ...   ...   ...   ...  ..  \n",
       "95 NaN    1  5.25  1.50  6.25   C  \n",
       "96 NaN    1  5.25  3.75  4.75   C  \n",
       "97 NaN  2NT  7.00  8.00  4.00   C  \n",
       "98 NaN    1  5.00  3.50  5.50   C  \n",
       "99 NaN  2NT  5.25  2.50  4.25   C  \n",
       "\n",
       "[100 rows x 56 columns]"
      ],
      "text/html": "<div>\n<style scoped>\n    .dataframe tbody tr th:only-of-type {\n        vertical-align: middle;\n    }\n\n    .dataframe tbody tr th {\n        vertical-align: top;\n    }\n\n    .dataframe thead th {\n        text-align: right;\n    }\n</style>\n<table border=\"1\" class=\"dataframe\">\n  <thead>\n    <tr style=\"text-align: right;\">\n      <th></th>\n      <th>STT</th>\n      <th>T1</th>\n      <th>L1</th>\n      <th>H1</th>\n      <th>S1</th>\n      <th>V1</th>\n      <th>X1</th>\n      <th>D1</th>\n      <th>N1</th>\n      <th>T2</th>\n      <th>...</th>\n      <th>X6</th>\n      <th>D6</th>\n      <th>N6</th>\n      <th>GT</th>\n      <th>DT</th>\n      <th>KV</th>\n      <th>DH1</th>\n      <th>DH2</th>\n      <th>DH3</th>\n      <th>KT</th>\n    </tr>\n  </thead>\n  <tbody>\n    <tr>\n      <th>0</th>\n      <td>1</td>\n      <td>7.2</td>\n      <td>7.3</td>\n      <td>6.3</td>\n      <td>7.3</td>\n      <td>7.0</td>\n      <td>7.9</td>\n      <td>7.3</td>\n      <td>5.5</td>\n      <td>8.4</td>\n      <td>...</td>\n      <td>6.6</td>\n      <td>7.6</td>\n      <td>5.9</td>\n      <td>F</td>\n      <td>NaN</td>\n      <td>2NT</td>\n      <td>3.25</td>\n      <td>3.25</td>\n      <td>4.50</td>\n      <td>A1</td>\n    </tr>\n    <tr>\n      <th>1</th>\n      <td>2</td>\n      <td>5.4</td>\n      <td>3.9</td>\n      <td>3.9</td>\n      <td>4.0</td>\n      <td>5.4</td>\n      <td>5.4</td>\n      <td>5.3</td>\n      <td>2.8</td>\n      <td>6.3</td>\n      <td>...</td>\n      <td>6.6</td>\n      <td>6.1</td>\n      <td>4.4</td>\n      <td>M</td>\n      <td>NaN</td>\n      <td>1</td>\n      <td>6.00</td>\n      <td>4.00</td>\n      <td>3.50</td>\n      <td>C</td>\n    </tr>\n    <tr>\n      <th>2</th>\n      <td>3</td>\n      <td>5.6</td>\n      <td>6.8</td>\n      <td>7.2</td>\n      <td>7.5</td>\n      <td>4.3</td>\n      <td>7.4</td>\n      <td>5.8</td>\n      <td>3.2</td>\n      <td>5.0</td>\n      <td>...</td>\n      <td>7.9</td>\n      <td>8.1</td>\n      <td>4.6</td>\n      <td>M</td>\n      <td>NaN</td>\n      <td>1</td>\n      <td>5.00</td>\n      <td>6.75</td>\n      <td>4.00</td>\n      <td>C</td>\n    </tr>\n    <tr>\n      <th>3</th>\n      <td>4</td>\n      <td>6.6</td>\n      <td>6.4</td>\n      <td>5.3</td>\n      <td>6.9</td>\n      <td>5.4</td>\n      <td>7.3</td>\n      <td>6.4</td>\n      <td>5.8</td>\n      <td>5.1</td>\n      <td>...</td>\n      <td>7.1</td>\n      <td>7.3</td>\n      <td>7.4</td>\n      <td>M</td>\n      <td>NaN</td>\n      <td>1</td>\n      <td>4.25</td>\n      <td>4.25</td>\n      <td>5.25</td>\n      <td>D1</td>\n    </tr>\n    <tr>\n      <th>4</th>\n      <td>5</td>\n      <td>6.0</td>\n      <td>5.0</td>\n      <td>6.0</td>\n      <td>7.3</td>\n      <td>6.5</td>\n      <td>7.7</td>\n      <td>7.9</td>\n      <td>6.1</td>\n      <td>5.4</td>\n      <td>...</td>\n      <td>6.1</td>\n      <td>7.5</td>\n      <td>7.2</td>\n      <td>M</td>\n      <td>NaN</td>\n      <td>2NT</td>\n      <td>4.25</td>\n      <td>4.50</td>\n      <td>5.00</td>\n      <td>A</td>\n    </tr>\n    <tr>\n      <th>...</th>\n      <td>...</td>\n      <td>...</td>\n      <td>...</td>\n      <td>...</td>\n      <td>...</td>\n      <td>...</td>\n      <td>...</td>\n      <td>...</td>\n      <td>...</td>\n      <td>...</td>\n      <td>...</td>\n      <td>...</td>\n      <td>...</td>\n      <td>...</td>\n      <td>...</td>\n      <td>...</td>\n      <td>...</td>\n      <td>...</td>\n      <td>...</td>\n      <td>...</td>\n      <td>...</td>\n    </tr>\n    <tr>\n      <th>95</th>\n      <td>96</td>\n      <td>8.6</td>\n      <td>6.9</td>\n      <td>7.4</td>\n      <td>8.8</td>\n      <td>7.6</td>\n      <td>5.8</td>\n      <td>7.3</td>\n      <td>5.7</td>\n      <td>8.9</td>\n      <td>...</td>\n      <td>6.3</td>\n      <td>6.1</td>\n      <td>6.2</td>\n      <td>F</td>\n      <td>NaN</td>\n      <td>1</td>\n      <td>5.25</td>\n      <td>1.50</td>\n      <td>6.25</td>\n      <td>C</td>\n    </tr>\n    <tr>\n      <th>96</th>\n      <td>97</td>\n      <td>3.7</td>\n      <td>5.4</td>\n      <td>6.0</td>\n      <td>5.1</td>\n      <td>5.5</td>\n      <td>3.9</td>\n      <td>6.1</td>\n      <td>4.4</td>\n      <td>4.1</td>\n      <td>...</td>\n      <td>7.9</td>\n      <td>7.5</td>\n      <td>4.4</td>\n      <td>F</td>\n      <td>NaN</td>\n      <td>1</td>\n      <td>5.25</td>\n      <td>3.75</td>\n      <td>4.75</td>\n      <td>C</td>\n    </tr>\n    <tr>\n      <th>97</th>\n      <td>98</td>\n      <td>8.8</td>\n      <td>5.5</td>\n      <td>7.4</td>\n      <td>7.7</td>\n      <td>6.2</td>\n      <td>7.3</td>\n      <td>8.1</td>\n      <td>4.5</td>\n      <td>9.5</td>\n      <td>...</td>\n      <td>9.6</td>\n      <td>8.4</td>\n      <td>5.8</td>\n      <td>M</td>\n      <td>NaN</td>\n      <td>2NT</td>\n      <td>7.00</td>\n      <td>8.00</td>\n      <td>4.00</td>\n      <td>C</td>\n    </tr>\n    <tr>\n      <th>98</th>\n      <td>99</td>\n      <td>2.7</td>\n      <td>1.8</td>\n      <td>3.4</td>\n      <td>5.3</td>\n      <td>4.5</td>\n      <td>7.9</td>\n      <td>4.9</td>\n      <td>3.8</td>\n      <td>2.8</td>\n      <td>...</td>\n      <td>6.6</td>\n      <td>5.2</td>\n      <td>5.9</td>\n      <td>M</td>\n      <td>NaN</td>\n      <td>1</td>\n      <td>5.00</td>\n      <td>3.50</td>\n      <td>5.50</td>\n      <td>C</td>\n    </tr>\n    <tr>\n      <th>99</th>\n      <td>100</td>\n      <td>4.1</td>\n      <td>5.2</td>\n      <td>4.9</td>\n      <td>5.3</td>\n      <td>5.5</td>\n      <td>5.4</td>\n      <td>7.2</td>\n      <td>5.4</td>\n      <td>4.4</td>\n      <td>...</td>\n      <td>5.6</td>\n      <td>6.6</td>\n      <td>5.8</td>\n      <td>M</td>\n      <td>NaN</td>\n      <td>2NT</td>\n      <td>5.25</td>\n      <td>2.50</td>\n      <td>4.25</td>\n      <td>C</td>\n    </tr>\n  </tbody>\n</table>\n<p>100 rows × 56 columns</p>\n</div>"
     },
     "metadata": {},
     "execution_count": 3
    }
   ],
   "source": [
    "import pandas as pd\n",
    "df = pd.read_csv('\bmy_sales_data.csv', header = 0, delimiter=',', encoding='unicode_escape')\n",
    "df"
   ]
  },
  {
   "cell_type": "code",
   "execution_count": 4,
   "metadata": {},
   "outputs": [],
   "source": [
    "# đưa dữ liệu lên firebase\n",
    "for item in df.to_dict(orient='records'):\n",
    "    doc_ref = dfFireStore.collection(\"APTECHSALES\").document()\n",
    "    doc_ref.set(item)"
   ]
  },
  {
   "cell_type": "code",
   "execution_count": null,
   "metadata": {},
   "outputs": [],
   "source": []
  },
  {
   "cell_type": "code",
   "execution_count": null,
   "metadata": {},
   "outputs": [],
   "source": []
  }
 ]
}